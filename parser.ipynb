{
 "cells": [
  {
   "cell_type": "code",
   "execution_count": null,
   "metadata": {},
   "outputs": [],
   "source": [
    "import numpy as np\n",
    "import matplotlib.pyplot as plt\n",
    "import pandas as pd\n",
    "\n",
    "plt.style.use('ggplot')"
   ]
  },
  {
   "cell_type": "code",
   "execution_count": null,
   "metadata": {},
   "outputs": [],
   "source": [
    "INSTRUMENT_NAME = [\"VTBR\", \"SBER\", \"TCSG\", \"USBN\", \"ROSB\"]\n",
    "PX_STEP = 0.001\n",
    "N_SECONDS_WINDOW = 3600"
   ]
  },
  {
   "cell_type": "code",
   "execution_count": null,
   "metadata": {},
   "outputs": [],
   "source": [
    "result = pd.read_csv(\"\")"
   ]
  },
  {
   "cell_type": "code",
   "execution_count": null,
   "metadata": {},
   "outputs": [],
   "source": [
    "all_volume = pd.DataFrame([result.time, result.traded_volume]).T\n",
    "all_volume.columns = [\"time\", \"traded_volume\"]\n",
    "all_volume = all_volume.loc[all_volume[\"time\"].duplicated(keep=\"last\") == False]\n",
    "all_volume[\"hour\"] = all_volume[\"time\"].map(lambda x: x.hour)\n",
    "all_volume = all_volume[\"traded_volume\"].loc[all_volume[\"hour\"].duplicated(keep=\"last\") == False]\n",
    "all_volume.reset_index(drop=True, inplace=True)\n",
    "all_volume.index = np.arange(10, 13)"
   ]
  },
  {
   "cell_type": "code",
   "execution_count": null,
   "metadata": {},
   "outputs": [],
   "source": [
    "all_volume"
   ]
  },
  {
   "cell_type": "code",
   "execution_count": null,
   "metadata": {},
   "outputs": [],
   "source": [
    "df_all_ticks = pd.read_csv(f\"{INSTRUMENT_NAME}/\"+DATA_FILENAME[:-4]+\"/orders.log\")\n",
    "df_all_ticks"
   ]
  },
  {
   "cell_type": "code",
   "execution_count": null,
   "metadata": {},
   "outputs": [],
   "source": [
    "# необходимо создать файл со всеми тиками\n",
    "df_negative_size = pd.read_csv(f\"{INSTRUMENT_NAME}/\"+ DATA_FILENAME[:-4] +\"/negative_volume.log\")\n",
    "df_negative_size[\"VOLUME_END\"] = -df_negative_size[\"VOLUME_END\"]\n",
    "df_negative_size[\"HOUR\"] = pd.to_datetime(df_negative_size[\"TIME\"].values).hour\n",
    "result_from_hidden = df_negative_size.groupby(\"HOUR\")[\"VOLUME_END\"].sum()\n",
    "result_from_hidden"
   ]
  },
  {
   "cell_type": "code",
   "execution_count": null,
   "metadata": {},
   "outputs": [],
   "source": [
    "massive_with_orderno = (df_negative_size.groupby(\"TIME\")[\"ORDERNO\"].last() + 1).values\n",
    "massive_with_orderno = np.append(massive_with_orderno, df_negative_size[\"ORDERNO\"].values)\n",
    "massive_with_orderno = np.sort(massive_with_orderno)\n",
    "\n",
    "df_orderno_from_negative = df_all_ticks[df_all_ticks[\"ORDERNO\"].isin(massive_with_orderno)].drop_duplicates(\"ORDERNO\")\n",
    "df_orderno_from_negative[\"HOUR\"] = pd.to_datetime(df_orderno_from_negative[\"TIME\"].values).hour\n",
    "result_from_open = df_orderno_from_negative.groupby(\"HOUR\")[\"VOLUME\"].sum()\n",
    "result_from_open"
   ]
  },
  {
   "cell_type": "code",
   "execution_count": null,
   "metadata": {},
   "outputs": [],
   "source": [
    "all_volume_hidden = result_from_open + result_from_hidden\n",
    "(all_volume_hidden / all_volume)"
   ]
  }
 ],
 "metadata": {
  "kernelspec": {
   "display_name": "Python 3",
   "language": "python",
   "name": "python3"
  },
  "language_info": {
   "name": "python",
   "version": "3.12.3"
  }
 },
 "nbformat": 4,
 "nbformat_minor": 2
}
